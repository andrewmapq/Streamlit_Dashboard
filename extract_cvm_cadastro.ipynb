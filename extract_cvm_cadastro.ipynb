{
 "cells": [
  {
   "cell_type": "code",
   "execution_count": 6,
   "metadata": {},
   "outputs": [],
   "source": [
    "import pandas as pd\n",
    "import sqlalchemy as sa"
   ]
  },
  {
   "cell_type": "code",
   "execution_count": null,
   "metadata": {},
   "outputs": [],
   "source": [
    "df_cad = pd.read_csv(\"../market_data/cvm_cadastro/cad_fi.csv\", sep=';', encoding_errors='ignore')\n",
    "df_cad['SIT'].unique()"
   ]
  },
  {
   "cell_type": "code",
   "execution_count": null,
   "metadata": {},
   "outputs": [],
   "source": [
    "df_cad_ativados = df_cad[df_cad['SIT'] == 'EM FUNCIONAMENTO NORMAL']\n",
    "df_cad_ativados.count()"
   ]
  },
  {
   "cell_type": "code",
   "execution_count": null,
   "metadata": {},
   "outputs": [],
   "source": [
    "df_cad_ativ_db = df_cad_ativados[[\n",
    "    'CD_CVM','CNPJ_FUNDO','DENOM_SOCIAL','PUBLICO_ALVO',\n",
    "    'TP_FUNDO','AUDITOR','ADMIN','TAXA_ADM','TAXA_PERFM','DIRETOR',\n",
    "    'CPF_CNPJ_GESTOR','GESTOR','CUSTODIANTE','CLASSE_ANBIMA','DT_INI_ATIV'\n",
    "    ]]\n",
    "df_cad_ativ_db.head()\n",
    "# df_cad_ativ_db[df_cad_ativ_db['DENOM_SOCIAL'].str.contains('STK')]"
   ]
  },
  {
   "cell_type": "code",
   "execution_count": 8,
   "metadata": {},
   "outputs": [],
   "source": [
    "username = 'postgres'\n",
    "password =  'eGb3WBb7iPeKm7KfwIT4Yc'\n",
    "host = 'localhost'\n",
    "port = '54321'\n",
    "database_name = 'market_data'\n",
    "connection_string = f\"postgresql://{username}:{password}@{host}:{port}/{database_name}\"\n",
    "market_data_engine = sa.create_engine(connection_string)"
   ]
  },
  {
   "cell_type": "code",
   "execution_count": 9,
   "metadata": {},
   "outputs": [
    {
     "data": {
      "text/plain": [
       "636"
      ]
     },
     "execution_count": 9,
     "metadata": {},
     "output_type": "execute_result"
    }
   ],
   "source": [
    "df_cad_ativ_db.to_sql('funds_registration', market_data_engine, if_exists='append', index=False)"
   ]
  }
 ],
 "metadata": {
  "kernelspec": {
   "display_name": "streamlit_dashboard_env",
   "language": "python",
   "name": "python3"
  },
  "language_info": {
   "codemirror_mode": {
    "name": "ipython",
    "version": 3
   },
   "file_extension": ".py",
   "mimetype": "text/x-python",
   "name": "python",
   "nbconvert_exporter": "python",
   "pygments_lexer": "ipython3",
   "version": "3.11.4"
  },
  "orig_nbformat": 4
 },
 "nbformat": 4,
 "nbformat_minor": 2
}
